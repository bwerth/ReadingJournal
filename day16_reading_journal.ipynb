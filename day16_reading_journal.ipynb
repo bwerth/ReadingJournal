{
 "cells": [
  {
   "cell_type": "markdown",
   "metadata": {},
   "source": [
    "# Day 16 Reading Journal\n",
    "\n",
    "This journal includes several required exercises, but it is meant to encourage active reading more generally.  You should use the journal to take detailed notes, catalog questions, and explore the content from Think Python deeply.\n",
    "\n",
    "Reading: Think Python Appendix B (through B.2)\n",
    "\n",
    "**Due: Monday, March 28 at 12 noon**\n"
   ]
  },
  {
   "cell_type": "markdown",
   "metadata": {},
   "source": [
    "## [Appendix B](http://www.greenteapress.com/thinkpython/html/thinkpython022.html)\n",
    "\n",
    "You only need to read as far as section B.2 (inclusive), but feel free to go further and try more exercises if you are interested."
   ]
  },
  {
   "cell_type": "code",
   "execution_count": null,
   "metadata": {
    "collapsed": true
   },
   "outputs": [],
   "source": [
    "- analysis of algorithms is a branch of cs that involves the study of the performance of algorithms\n",
    "- the goal is to predict performance so that effective design decisions can be made\n",
    "- there is no one correct algorithm, the correct method is to specify a machine model and to find the number of steps that\n",
    "are needed for a given algorithm and model\n",
    "- some algorithms run faster if a dataset is already partially sorted\n",
    " - to account for this, it is useful to consider the worst case scenario\n",
    "- the size of a dataset is also important to consider\n",
    " - to address this it is useful to express run time as a function of problem size\n",
    " - then compare the programs asymptotically as the problem size increases\n"
   ]
  },
  {
   "cell_type": "markdown",
   "metadata": {
    "is_question": true,
    "problem": "Exercise B.1"
   },
   "source": [
    "### Exercise 1  \n",
    "\n",
    "Read the [Wikipedia page on Big-Oh notation](http://en.wikipedia.org/wiki/Big_O_notation) and answer the following questions:\n",
    "\n",
    " 1. What is the order of growth of n<sup>3</sup> + n<sup>2</sup>? What about 1000000 n<sup>3</sup> + n<sup>2</sup>? What about n<sup>3</sup> + 1000000 n<sup>2</sup>?\n",
    " 2. What is the order of growth of (n<sup>2</sup> + n) * (n + 1)? Before you start multiplying, remember that you only need the leading term.\n",
    " 3. If f is in O(g), for some unspecified function g, what can we say about af+b?\n",
    " 4. If f<sub>1</sub> and f<sub>2</sub> are in O(g), what can we say about f<sub>1</sub> + f<sub>2</sub>?\n",
    " 5. If f<sub>1</sub> is in O(g) and f<sub>2</sub> is in O(h), what can we say about f<sub>1</sub> + f<sub>2</sub>?\n",
    " 6. If f<sub>1</sub> is in O(g) and f<sub>2</sub> is O(h), what can we say about f<sub>1</sub> * f<sub>2</sub>? "
   ]
  },
  {
   "cell_type": "markdown",
   "metadata": {},
   "source": []
  },
  {
   "cell_type": "markdown",
   "metadata": {
    "collapsed": false,
    "solution": "Exercise B.1"
   },
   "source": [
    "  1. The order of growth for all of the examples in one are n^3\n",
    "  2. The order of growth is n^3\n",
    "  3. We can say that the order of growth of af+b is g\n",
    "  4. We can say that the order of growth of f1 + f2 is g\n",
    "  5. We can say that the order of growth is either g or h depending on which is the leading term.\n",
    "  6. We can say that the order of growth is gh"
   ]
  },
  {
   "cell_type": "markdown",
   "metadata": {
    "is_poll": true,
    "is_question": true,
    "problem": "Time spent"
   },
   "source": [
    "## Quick poll\n",
    "About how long did you spend working on this Reading Journal?"
   ]
  },
  {
   "cell_type": "markdown",
   "metadata": {
    "poll_response": true,
    "solution": "Time spent"
   },
   "source": [
    " "
   ]
  },
  {
   "cell_type": "code",
   "execution_count": null,
   "metadata": {
    "collapsed": true
   },
   "outputs": [],
   "source": [
    "I spent 40 minutes on this assignment"
   ]
  },
  {
   "cell_type": "markdown",
   "metadata": {
    "is_question": true,
    "problem": "Feedback"
   },
   "source": [
    "## Reading Journal feedback\n",
    "\n",
    "Have any comments on this Reading Journal? Feel free to leave them below and we'll read them when you submit your journal entry. This could include suggestions to improve the exercises, topics you'd like to see covered in class next time, or other feedback.\n",
    "\n",
    "If you have Python questions or run into problems while completing the reading, you should post them to Piazza instead so you can get a quick response before your journal is submitted."
   ]
  },
  {
   "cell_type": "markdown",
   "metadata": {
    "feedback_response": true,
    "solution": "Feedback"
   },
   "source": [
    " "
   ]
  }
 ],
 "metadata": {
  "celltoolbar": "Edit Metadata",
  "kernelspec": {
   "display_name": "Python 2",
   "language": "python",
   "name": "python2"
  },
  "language_info": {
   "codemirror_mode": {
    "name": "ipython",
    "version": 2
   },
   "file_extension": ".py",
   "mimetype": "text/x-python",
   "name": "python",
   "nbconvert_exporter": "python",
   "pygments_lexer": "ipython2",
   "version": "2.7.6"
  }
 },
 "nbformat": 4,
 "nbformat_minor": 0
}
